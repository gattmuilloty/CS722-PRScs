{
 "cells": [
  {
   "cell_type": "code",
   "execution_count": 4,
   "metadata": {},
   "outputs": [],
   "source": [
    "import parseAndGigrnd\n",
    "import mcmc_gtb\n",
    "import numpy as np\n",
    "import pandas as pd"
   ]
  },
  {
   "cell_type": "code",
   "execution_count": 5,
   "metadata": {},
   "outputs": [],
   "source": [
    "# LD Panel References\n",
    "references = pd.read_table('LD_Reference_Panel_Files\\snpinfo_1kg_hm3')\n",
    "\n",
    "SSTbim = pd.read_table('GWAS_Summary_Stats_Files\\\\test.bim', header = None, names = ['CHROM', 'SNP', '0', 'BP', 'A1', 'A2'])\n",
    "\n",
    "# Summary Statistics\n",
    "summaryStats = pd.merge(pd.merge(SSTbim, references, on='SNP', how='inner'), pd.read_table('GWAS_Summary_Stats_Files\\sumstats_se.txt'), on='SNP', how='inner')\n",
    "summaryStats['BETA'], summaryStats['FLP'] = np.where(SSTbim['A1'] == summaryStats['A1'], 1 * (summaryStats['BETA']) / summaryStats['SE'] / np.sqrt(200000), -1 * (summaryStats['BETA']) / summaryStats['SE'] / np.sqrt(200000)), 1\n",
    "summaryStats['FLP'] = np.where(summaryStats['A1_x'] == summaryStats['A1_y'], 1 * summaryStats['FLP'], -1 * summaryStats['FLP'])\n",
    "del summaryStats['A1'], summaryStats['A2']\n",
    "summaryStats.rename(columns={\"BP_x\": \"BP\", \"A1_x\": \"A1\", \"A2_x\": \"A2\"}, inplace=True)\n",
    "\n",
    "# LD Blocks and Block Sizes\n",
    "LDBlock, blockSize = parseAndGigrnd.parse_ldblk('LD_Reference_Panel_Files', summaryStats, 22)"
   ]
  },
  {
   "cell_type": "markdown",
   "metadata": {},
   "source": [
    "begin MCMC"
   ]
  },
  {
   "cell_type": "code",
   "execution_count": 6,
   "metadata": {},
   "outputs": [
    {
     "name": "stdout",
     "output_type": "stream",
     "text": [
      "... MCMC ...\n",
      " - Interation #100 -\n",
      " - Interation #200 -\n",
      " - Interation #300 -\n",
      " - Interation #400 -\n",
      " - Interation #500 -\n",
      " - Interation #600 -\n",
      " - Interation #700 -\n",
      " - Interation #800 -\n",
      " - Interation #900 -\n",
      " - Interation #1000 -\n",
      "... Done ...\n"
     ]
    }
   ],
   "source": [
    "mcmc_gtb.mcmc(1, 0.5, 1e-2, summaryStats, 200000, LDBlock, blockSize, 1000, 500, 5, 22, 'output', 5)"
   ]
  }
 ],
 "metadata": {
  "kernelspec": {
   "display_name": "Python 3",
   "language": "python",
   "name": "python3"
  },
  "language_info": {
   "codemirror_mode": {
    "name": "ipython",
    "version": 3
   },
   "file_extension": ".py",
   "mimetype": "text/x-python",
   "name": "python",
   "nbconvert_exporter": "python",
   "pygments_lexer": "ipython3",
   "version": "3.11.9"
  }
 },
 "nbformat": 4,
 "nbformat_minor": 2
}
