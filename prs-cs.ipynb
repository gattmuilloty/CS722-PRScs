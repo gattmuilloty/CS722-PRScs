{
 "cells": [
  {
   "cell_type": "code",
   "execution_count": 1,
   "metadata": {},
   "outputs": [],
   "source": [
    "import parseAndGigrnd\n",
    "import random\n",
    "import numpy as np\n",
    "from scipy import linalg \n",
    "from numpy import random\n",
    "import pandas as pd\n",
    "import mcmc_gtb"
   ]
  },
  {
   "cell_type": "code",
   "execution_count": 2,
   "metadata": {},
   "outputs": [],
   "source": [
    "# LD Panel References\n",
    "references = pd.read_table('LD_Reference_Panel_Files\\snpinfo_1kg_hm3')\n",
    "\n",
    "SSTbim = pd.read_table('GWAS_Summary_Stats_Files\\\\test.bim', header = None, names = ['CHROM', 'SNP', '0', 'BP', 'A1', 'A2'])\n",
    "\n",
    "# Summary Statistics\n",
    "summaryStats = pd.merge(pd.merge(SSTbim, references, on='SNP', how='inner'), pd.read_table('GWAS_Summary_Stats_Files\\sumstats_se.txt'), on='SNP', how='inner')\n",
    "summaryStats['BETA'], summaryStats['FLP'] = np.where(SSTbim['A1'] == summaryStats['A1'], 1 * (summaryStats['BETA']) / summaryStats['SE'] / np.sqrt(200000), -1 * (summaryStats['BETA']) / summaryStats['SE'] / np.sqrt(200000)), 1\n",
    "summaryStats['FLP'] = np.where(summaryStats['A1_x'] == summaryStats['A1_y'], 1 * summaryStats['FLP'], -1 * summaryStats['FLP'])\n",
    "del summaryStats['A1'], summaryStats['A2']\n",
    "summaryStats.rename(columns={\"BP_x\": \"BP\", \"A1_x\": \"A1\", \"A2_x\": \"A2\"}, inplace=True)\n",
    "\n",
    "# LD Blocks and Block Sizes\n",
    "LDBlock, blockSize = parseAndGigrnd.parse_ldblk('LD_Reference_Panel_Files', summaryStats, 22)"
   ]
  },
  {
   "cell_type": "markdown",
   "metadata": {},
   "source": [
    "begin MCMC"
   ]
  },
  {
   "cell_type": "code",
   "execution_count": 3,
   "metadata": {},
   "outputs": [
    {
     "name": "stdout",
     "output_type": "stream",
     "text": [
      "... MCMC ...\n",
      "--- iter-100 ---\n",
      "--- iter-200 ---\n",
      "--- iter-300 ---\n",
      "--- iter-400 ---\n",
      "--- iter-500 ---\n",
      "--- iter-600 ---\n",
      "--- iter-700 ---\n",
      "--- iter-800 ---\n",
      "--- iter-900 ---\n",
      "--- iter-1000 ---\n",
      "... Done ...\n"
     ]
    }
   ],
   "source": [
    "param_dict = {'ref_dir': None, 'bim_prefix': None, 'sst_file': None, 'a': 1, 'b': 0.5, 'phi': None, 'n_gwas': None,\n",
    "                'n_iter': 1000, 'n_burnin': 500, 'thin': 5, 'out_dir': None, 'chrom': range(1,23),\n",
    "                'standardizedBeta': 'FALSE', 'write_psi': 'FALSE', 'write_pst': 'TRUE', 'seed': None}\n",
    "\n",
    "mcmc_gtb.mcmc(param_dict['a'], param_dict['b'], 1e-2, summaryStats, 200000, LDBlock, blockSize,\n",
    "    1000, 500, 5, 22, 'output', param_dict['standardizedBeta'], param_dict['write_psi'], param_dict['write_pst'], 5)"
   ]
  },
  {
   "cell_type": "code",
   "execution_count": 7,
   "metadata": {},
   "outputs": [
    {
     "data": {
      "text/plain": [
       "array([[1. , 0.5],\n",
       "       [0.5, 1. ]])"
      ]
     },
     "execution_count": 7,
     "metadata": {},
     "output_type": "execute_result"
    }
   ],
   "source": [
    "positiveDefiniteMatrix = np.array([[1, 0.5], [0.5, 1]])\n",
    "\n",
    "test = np.linalg.cholesky(positiveDefiniteMatrix)\n",
    "\n",
    "np.dot(test, test.T)"
   ]
  },
  {
   "cell_type": "code",
   "execution_count": 4,
   "metadata": {},
   "outputs": [
    {
     "name": "stdout",
     "output_type": "stream",
     "text": [
      "Cholesky factor L:\n",
      " [[2.         0.         0.        ]\n",
      " [1.         2.23606798 0.        ]\n",
      " [1.         0.4472136  1.94935887]]\n",
      "Solution x:\n",
      " [-0.2814003   0.3881966   0.84477059]\n",
      "Check Ax:\n",
      " [1.34033316 3.45592017 4.43744552]\n",
      "[-0.13157895  0.18421053  0.57894737]\n"
     ]
    }
   ],
   "source": [
    "# Create a symmetric positive-definite matrix A\n",
    "A = np.array([[4, 2, 2],\n",
    "              [2, 6, 2],\n",
    "              [2, 2, 5]])\n",
    "\n",
    "# Ensure it's symmetric\n",
    "A = (A + A.T) / 2\n",
    "\n",
    "# Define the vector b\n",
    "b = np.array([1, 2, 3])\n",
    "\n",
    "# Perform Cholesky decomposition (A = LL^T)\n",
    "L = np.linalg.cholesky(A)\n",
    "\n",
    "# Print the lower triangular matrix L\n",
    "print(\"Cholesky factor L:\\n\", L)\n",
    "\n",
    "# Solve Ly = b using forward substitution\n",
    "y = np.linalg.solve(L, b)\n",
    "\n",
    "# Solve L^T x = y using backward substitution\n",
    "x = np.linalg.solve(L.T, y)\n",
    "\n",
    "# Print the solution x to Ax = b\n",
    "print(\"Solution x:\\n\", x)\n",
    "\n",
    "# Verify that Ax = b\n",
    "print(\"Check Ax:\\n\", np.dot(A, x))\n",
    "\n",
    "\n",
    "print(np.linalg.solve(A, b))"
   ]
  }
 ],
 "metadata": {
  "kernelspec": {
   "display_name": "Python 3",
   "language": "python",
   "name": "python3"
  },
  "language_info": {
   "codemirror_mode": {
    "name": "ipython",
    "version": 3
   },
   "file_extension": ".py",
   "mimetype": "text/x-python",
   "name": "python",
   "nbconvert_exporter": "python",
   "pygments_lexer": "ipython3",
   "version": "3.11.9"
  }
 },
 "nbformat": 4,
 "nbformat_minor": 2
}
