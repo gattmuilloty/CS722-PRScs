{
 "cells": [
  {
   "cell_type": "code",
   "execution_count": 1,
   "metadata": {},
   "outputs": [],
   "source": [
    "import parseAndGigrnd\n",
    "import mcmc_gtb\n",
    "import random\n",
    "import numpy as np\n",
    "# from scipy import linalg \n",
    "# from numpy import random\n",
    "import pandas as pd"
   ]
  },
  {
   "cell_type": "code",
   "execution_count": 2,
   "metadata": {},
   "outputs": [
    {
     "ename": "NameError",
     "evalue": "name 'np' is not defined",
     "output_type": "error",
     "traceback": [
      "\u001b[1;31m---------------------------------------------------------------------------\u001b[0m",
      "\u001b[1;31mNameError\u001b[0m                                 Traceback (most recent call last)",
      "Cell \u001b[1;32mIn[2], line 8\u001b[0m\n\u001b[0;32m      6\u001b[0m \u001b[38;5;66;03m# Summary Statistics\u001b[39;00m\n\u001b[0;32m      7\u001b[0m summaryStats \u001b[38;5;241m=\u001b[39m pd\u001b[38;5;241m.\u001b[39mmerge(pd\u001b[38;5;241m.\u001b[39mmerge(SSTbim, references, on\u001b[38;5;241m=\u001b[39m\u001b[38;5;124m'\u001b[39m\u001b[38;5;124mSNP\u001b[39m\u001b[38;5;124m'\u001b[39m, how\u001b[38;5;241m=\u001b[39m\u001b[38;5;124m'\u001b[39m\u001b[38;5;124minner\u001b[39m\u001b[38;5;124m'\u001b[39m), pd\u001b[38;5;241m.\u001b[39mread_table(\u001b[38;5;124m'\u001b[39m\u001b[38;5;124mGWAS_Summary_Stats_Files\u001b[39m\u001b[38;5;124m\\\u001b[39m\u001b[38;5;124msumstats_se.txt\u001b[39m\u001b[38;5;124m'\u001b[39m), on\u001b[38;5;241m=\u001b[39m\u001b[38;5;124m'\u001b[39m\u001b[38;5;124mSNP\u001b[39m\u001b[38;5;124m'\u001b[39m, how\u001b[38;5;241m=\u001b[39m\u001b[38;5;124m'\u001b[39m\u001b[38;5;124minner\u001b[39m\u001b[38;5;124m'\u001b[39m)\n\u001b[1;32m----> 8\u001b[0m summaryStats[\u001b[38;5;124m'\u001b[39m\u001b[38;5;124mBETA\u001b[39m\u001b[38;5;124m'\u001b[39m], summaryStats[\u001b[38;5;124m'\u001b[39m\u001b[38;5;124mFLP\u001b[39m\u001b[38;5;124m'\u001b[39m] \u001b[38;5;241m=\u001b[39m \u001b[43mnp\u001b[49m\u001b[38;5;241m.\u001b[39mwhere(SSTbim[\u001b[38;5;124m'\u001b[39m\u001b[38;5;124mA1\u001b[39m\u001b[38;5;124m'\u001b[39m] \u001b[38;5;241m==\u001b[39m summaryStats[\u001b[38;5;124m'\u001b[39m\u001b[38;5;124mA1\u001b[39m\u001b[38;5;124m'\u001b[39m], \u001b[38;5;241m1\u001b[39m \u001b[38;5;241m*\u001b[39m (summaryStats[\u001b[38;5;124m'\u001b[39m\u001b[38;5;124mBETA\u001b[39m\u001b[38;5;124m'\u001b[39m]) \u001b[38;5;241m/\u001b[39m summaryStats[\u001b[38;5;124m'\u001b[39m\u001b[38;5;124mSE\u001b[39m\u001b[38;5;124m'\u001b[39m] \u001b[38;5;241m/\u001b[39m np\u001b[38;5;241m.\u001b[39msqrt(\u001b[38;5;241m200000\u001b[39m), \u001b[38;5;241m-\u001b[39m\u001b[38;5;241m1\u001b[39m \u001b[38;5;241m*\u001b[39m (summaryStats[\u001b[38;5;124m'\u001b[39m\u001b[38;5;124mBETA\u001b[39m\u001b[38;5;124m'\u001b[39m]) \u001b[38;5;241m/\u001b[39m summaryStats[\u001b[38;5;124m'\u001b[39m\u001b[38;5;124mSE\u001b[39m\u001b[38;5;124m'\u001b[39m] \u001b[38;5;241m/\u001b[39m np\u001b[38;5;241m.\u001b[39msqrt(\u001b[38;5;241m200000\u001b[39m)), \u001b[38;5;241m1\u001b[39m\n\u001b[0;32m      9\u001b[0m summaryStats[\u001b[38;5;124m'\u001b[39m\u001b[38;5;124mFLP\u001b[39m\u001b[38;5;124m'\u001b[39m] \u001b[38;5;241m=\u001b[39m np\u001b[38;5;241m.\u001b[39mwhere(summaryStats[\u001b[38;5;124m'\u001b[39m\u001b[38;5;124mA1_x\u001b[39m\u001b[38;5;124m'\u001b[39m] \u001b[38;5;241m==\u001b[39m summaryStats[\u001b[38;5;124m'\u001b[39m\u001b[38;5;124mA1_y\u001b[39m\u001b[38;5;124m'\u001b[39m], \u001b[38;5;241m1\u001b[39m \u001b[38;5;241m*\u001b[39m summaryStats[\u001b[38;5;124m'\u001b[39m\u001b[38;5;124mFLP\u001b[39m\u001b[38;5;124m'\u001b[39m], \u001b[38;5;241m-\u001b[39m\u001b[38;5;241m1\u001b[39m \u001b[38;5;241m*\u001b[39m summaryStats[\u001b[38;5;124m'\u001b[39m\u001b[38;5;124mFLP\u001b[39m\u001b[38;5;124m'\u001b[39m])\n\u001b[0;32m     10\u001b[0m \u001b[38;5;28;01mdel\u001b[39;00m summaryStats[\u001b[38;5;124m'\u001b[39m\u001b[38;5;124mA1\u001b[39m\u001b[38;5;124m'\u001b[39m], summaryStats[\u001b[38;5;124m'\u001b[39m\u001b[38;5;124mA2\u001b[39m\u001b[38;5;124m'\u001b[39m]\n",
      "\u001b[1;31mNameError\u001b[0m: name 'np' is not defined"
     ]
    }
   ],
   "source": [
    "# LD Panel References\n",
    "references = pd.read_table('LD_Reference_Panel_Files\\snpinfo_1kg_hm3')\n",
    "\n",
    "SSTbim = pd.read_table('GWAS_Summary_Stats_Files\\\\test.bim', header = None, names = ['CHROM', 'SNP', '0', 'BP', 'A1', 'A2'])\n",
    "\n",
    "# Summary Statistics\n",
    "summaryStats = pd.merge(pd.merge(SSTbim, references, on='SNP', how='inner'), pd.read_table('GWAS_Summary_Stats_Files\\sumstats_se.txt'), on='SNP', how='inner')\n",
    "summaryStats['BETA'], summaryStats['FLP'] = np.where(SSTbim['A1'] == summaryStats['A1'], 1 * (summaryStats['BETA']) / summaryStats['SE'] / np.sqrt(200000), -1 * (summaryStats['BETA']) / summaryStats['SE'] / np.sqrt(200000)), 1\n",
    "summaryStats['FLP'] = np.where(summaryStats['A1_x'] == summaryStats['A1_y'], 1 * summaryStats['FLP'], -1 * summaryStats['FLP'])\n",
    "del summaryStats['A1'], summaryStats['A2']\n",
    "summaryStats.rename(columns={\"BP_x\": \"BP\", \"A1_x\": \"A1\", \"A2_x\": \"A2\"}, inplace=True)\n",
    "\n",
    "# LD Blocks and Block Sizes\n",
    "LDBlock, blockSize = parseAndGigrnd.parse_ldblk('LD_Reference_Panel_Files', summaryStats, 22)"
   ]
  },
  {
   "cell_type": "markdown",
   "metadata": {},
   "source": [
    "begin MCMC"
   ]
  },
  {
   "cell_type": "code",
   "execution_count": 3,
   "metadata": {},
   "outputs": [
    {
     "name": "stdout",
     "output_type": "stream",
     "text": [
      "... MCMC ...\n",
      " - Interation #100-\n",
      " - Interation #200-\n",
      " - Interation #300-\n",
      " - Interation #400-\n",
      " - Interation #500-\n",
      " - Interation #600-\n",
      " - Interation #700-\n",
      " - Interation #800-\n",
      " - Interation #900-\n",
      " - Interation #1000-\n",
      "... Done ...\n"
     ]
    }
   ],
   "source": [
    "parameters = {'ref_dir': None, 'bim_prefix': None, 'sst_file': None, 'a': 1, 'b': 0.5, 'phi': None, 'n_gwas': None,\n",
    "                'n_iter': 1000, 'n_burnin': 500, 'thin': 5, 'out_dir': None, 'chrom': range(1,23),\n",
    "                'standardizedBeta': 'FALSE', 'write_psi': 'FALSE', 'write_pst': 'TRUE', 'seed': None}\n",
    "\n",
    "mcmc_gtb.mcmc(parameters['a'], parameters['b'], 1e-2, summaryStats, 200000, LDBlock, blockSize,\n",
    "    1000, 500, 5, 22, 'output', parameters['standardizedBeta'], parameters['write_psi'], parameters['write_pst'], 5)"
   ]
  }
 ],
 "metadata": {
  "kernelspec": {
   "display_name": "Python 3",
   "language": "python",
   "name": "python3"
  },
  "language_info": {
   "codemirror_mode": {
    "name": "ipython",
    "version": 3
   },
   "file_extension": ".py",
   "mimetype": "text/x-python",
   "name": "python",
   "nbconvert_exporter": "python",
   "pygments_lexer": "ipython3",
   "version": "3.11.9"
  }
 },
 "nbformat": 4,
 "nbformat_minor": 2
}
