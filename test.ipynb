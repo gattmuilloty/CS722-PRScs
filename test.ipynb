{
 "cells": [
  {
   "cell_type": "code",
   "execution_count": 4,
   "metadata": {},
   "outputs": [],
   "source": [
    "import parse_genet"
   ]
  },
  {
   "cell_type": "code",
   "execution_count": 9,
   "metadata": {},
   "outputs": [
    {
     "name": "stdout",
     "output_type": "stream",
     "text": [
      "... parse reference file: LD_Reference_Panel_Files\\snpinfo_1kg_hm3 ...\n",
      "... 16464 SNPs on chromosome 22 read from LD_Reference_Panel_Files\\snpinfo_1kg_hm3 ...\n",
      "... parse bim file: GWAS_Summary_Stats_Files\\test.bim ...\n",
      "... 1000 SNPs on chromosome 22 read from GWAS_Summary_Stats_Files\\test.bim ...\n",
      "... parse sumstats file: GWAS_Summary_Stats_Files\\sumstats_se.txt ...\n",
      "... 1000 SNPs read from GWAS_Summary_Stats_Files\\sumstats_se.txt ...\n",
      "... 1000 common SNPs in the reference, sumstats, and validation set ...\n",
      "... parse reference LD on chromosome 22 ...\n",
      "LD_Reference_Panel_Files/ldblk_1kg_chr22.hdf5\n"
     ]
    }
   ],
   "source": [
    "ref_dict = parse_genet.parse_ref('LD_Reference_Panel_Files\\snpinfo_1kg_hm3', 22)\n",
    "\n",
    "vld_dict = parse_genet.parse_bim('GWAS_Summary_Stats_Files\\\\test', 22)\n",
    "\n",
    "sst_dict = parse_genet.parse_sumstats(ref_dict, vld_dict, 'GWAS_Summary_Stats_Files\\sumstats_se.txt', 200000)\n",
    "\n",
    "ld_blk, blk_size = parse_genet.parse_ldblk('LD_Reference_Panel_Files', sst_dict, 22)"
   ]
  },
  {
   "cell_type": "code",
   "execution_count": 15,
   "metadata": {},
   "outputs": [
    {
     "name": "stdout",
     "output_type": "stream",
     "text": [
      "[[ 1.        -0.14631    0.210427  ... -0.0103829 -0.0318179  0.0256598]\n",
      " [-0.14631    1.        -0.0522206 ... -0.0409753 -0.0467828 -0.0328089]\n",
      " [ 0.210427  -0.0522206  1.        ... -0.0467965 -0.057888   0.0332181]\n",
      " ...\n",
      " [-0.0103829 -0.0409753 -0.0467965 ...  1.         0.967532  -0.187081 ]\n",
      " [-0.0318179 -0.0467828 -0.057888  ...  0.967532   1.        -0.214542 ]\n",
      " [ 0.0256598 -0.0328089  0.0332181 ... -0.187081  -0.214542   1.       ]]\n",
      "[[ 1.         -0.594883   -0.854701   ... -0.029778   -0.0611675\n",
      "  -0.0623354 ]\n",
      " [-0.594883    1.          0.432201   ...  0.0220252   0.0248158\n",
      "   0.028129  ]\n",
      " [-0.854701    0.432201    1.         ... -0.00325899  0.0440021\n",
      "   0.0483626 ]\n",
      " ...\n",
      " [-0.029778    0.0220252  -0.00325899 ...  1.          0.88211\n",
      "   0.876589  ]\n",
      " [-0.0611675   0.0248158   0.0440021  ...  0.88211     1.\n",
      "   0.993641  ]\n",
      " [-0.0623354   0.028129    0.0483626  ...  0.876589    0.993641\n",
      "   1.        ]]\n",
      "[[ 1.00000009  0.87257591  0.865588   ...  0.0250244   0.0020858\n",
      "   0.002466  ]\n",
      " [ 0.87257591  1.00000009  0.991441   ...  0.00687043 -0.0151371\n",
      "   0.0239619 ]\n",
      " [ 0.865588    0.991441    1.         ...  0.00258541 -0.0206684\n",
      "   0.0282071 ]\n",
      " ...\n",
      " [ 0.0250244   0.00687043  0.00258541 ...  1.          0.325209\n",
      "  -0.159326  ]\n",
      " [ 0.0020858  -0.0151371  -0.0206684  ...  0.325209    1.\n",
      "  -0.124253  ]\n",
      " [ 0.002466    0.0239619   0.0282071  ... -0.159326   -0.124253\n",
      "   1.        ]]\n",
      "[[ 1.         -0.441924   -0.252209   ...  0.0746885   0.0428374\n",
      "  -0.0164193 ]\n",
      " [-0.441924    1.         -0.525678   ... -0.00341884 -0.00483177\n",
      "  -0.0165218 ]\n",
      " [-0.252209   -0.525678    1.         ... -0.0132492  -0.0303624\n",
      "   0.0461534 ]\n",
      " ...\n",
      " [ 0.0746885  -0.00341884 -0.0132492  ...  1.          0.547599\n",
      "   0.283273  ]\n",
      " [ 0.0428374  -0.00483177 -0.0303624  ...  0.547599    1.\n",
      "  -0.145849  ]\n",
      " [-0.0164193  -0.0165218   0.0461534  ...  0.283273   -0.145849\n",
      "   1.        ]]\n",
      "[]\n",
      "[]\n",
      "[]\n",
      "[]\n",
      "[]\n",
      "[]\n",
      "[]\n",
      "[]\n",
      "[]\n",
      "[]\n",
      "[]\n",
      "[]\n",
      "[]\n",
      "[]\n",
      "[]\n",
      "[]\n",
      "[]\n",
      "[]\n",
      "[]\n",
      "[]\n"
     ]
    }
   ],
   "source": [
    "j = 0\n",
    "for i in ld_blk:\n",
    "    j+= 1\n",
    "    print(i)\n",
    "\n",
    "# print(j)\n",
    "# print(blk_size)"
   ]
  }
 ],
 "metadata": {
  "kernelspec": {
   "display_name": "Python 3",
   "language": "python",
   "name": "python3"
  },
  "language_info": {
   "codemirror_mode": {
    "name": "ipython",
    "version": 3
   },
   "file_extension": ".py",
   "mimetype": "text/x-python",
   "name": "python",
   "nbconvert_exporter": "python",
   "pygments_lexer": "ipython3",
   "version": "3.11.9"
  }
 },
 "nbformat": 4,
 "nbformat_minor": 2
}
