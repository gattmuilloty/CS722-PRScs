{
 "cells": [
  {
   "cell_type": "code",
   "execution_count": 2,
   "metadata": {},
   "outputs": [],
   "source": [
    "import h5py\n",
    "import numpy as np\n",
    "import os"
   ]
  },
  {
   "cell_type": "code",
   "execution_count": 16,
   "metadata": {},
   "outputs": [],
   "source": [
    "folder = 'ldblk_1kg_eur'\n",
    "\n",
    "sst_dict = {'CHR':[], 'SNP':[], 'BP':[], 'A1':[], 'A2':[], 'MAF':[], 'BETA':[], 'FLP':[]}\n",
    "\n",
    "def parse_ldblk(ldblk_dir, sst_dict, chrom):\n",
    "    print('... parse reference LD on chromosome %d ...' % chrom)\n",
    "\n",
    "    if '1kg' in os.path.basename(ldblk_dir):\n",
    "        chr_name = ldblk_dir + '/ldblk_1kg_chr' + str(chrom) + '.hdf5'\n",
    "    elif 'ukbb' in os.path.basename(ldblk_dir):\n",
    "        chr_name = ldblk_dir + '/ldblk_ukbb_chr' + str(chrom) + '.hdf5'\n",
    "\n",
    "    chr_name = 'LD_Reference_Panel_Files\\ldblk_1kg_chr22.hdf5'\n",
    "\n",
    "    print(chr_name)\n",
    "\n",
    "    hdf_chr = h5py.File(chr_name, 'r')\n",
    "    n_blk = len(hdf_chr)\n",
    "    ld_blk = [np.array(hdf_chr['blk_'+str(blk)]['ldblk']) for blk in range(1,n_blk+1)]\n",
    "\n",
    "    snp_blk = []\n",
    "    for blk in range(1,n_blk+1):\n",
    "        snp_blk.append([bb.decode(\"UTF-8\") for bb in list(hdf_chr['blk_'+str(blk)]['snplist'])])\n",
    "\n",
    "    blk_size = []\n",
    "    mm = 0\n",
    "    for blk in range(n_blk):\n",
    "        idx = [ii for (ii, snp) in enumerate(snp_blk[blk]) if snp in sst_dict['SNP']]\n",
    "        blk_size.append(len(idx))\n",
    "        if idx != []:\n",
    "            idx_blk = range(mm,mm+len(idx))\n",
    "            flip = [sst_dict['FLP'][jj] for jj in idx_blk]\n",
    "            ld_blk[blk] = ld_blk[blk][np.ix_(idx,idx)]*np.outer(flip,flip)\n",
    "\n",
    "            _, s, v = np.linalg.svd(ld_blk[blk])\n",
    "            h = np.dot(v.T, np.dot(np.diag(s), v))\n",
    "            ld_blk[blk] = (ld_blk[blk]+h)/2            \n",
    "\n",
    "            mm += len(idx)\n",
    "        else:\n",
    "            ld_blk[blk] = np.array([])\n",
    "\n",
    "    return ld_blk, blk_size"
   ]
  },
  {
   "cell_type": "code",
   "execution_count": 17,
   "metadata": {},
   "outputs": [
    {
     "name": "stdout",
     "output_type": "stream",
     "text": [
      "... parse reference LD on chromosome 22 ...\n",
      "LD_Reference_Panel_Files\\ldblk_1kg_chr22.hdf5\n"
     ]
    },
    {
     "data": {
      "text/plain": [
       "([array([], dtype=float64),\n",
       "  array([], dtype=float64),\n",
       "  array([], dtype=float64),\n",
       "  array([], dtype=float64),\n",
       "  array([], dtype=float64),\n",
       "  array([], dtype=float64),\n",
       "  array([], dtype=float64),\n",
       "  array([], dtype=float64),\n",
       "  array([], dtype=float64),\n",
       "  array([], dtype=float64),\n",
       "  array([], dtype=float64),\n",
       "  array([], dtype=float64),\n",
       "  array([], dtype=float64),\n",
       "  array([], dtype=float64),\n",
       "  array([], dtype=float64),\n",
       "  array([], dtype=float64),\n",
       "  array([], dtype=float64),\n",
       "  array([], dtype=float64),\n",
       "  array([], dtype=float64),\n",
       "  array([], dtype=float64),\n",
       "  array([], dtype=float64),\n",
       "  array([], dtype=float64),\n",
       "  array([], dtype=float64),\n",
       "  array([], dtype=float64)],\n",
       " [0, 0, 0, 0, 0, 0, 0, 0, 0, 0, 0, 0, 0, 0, 0, 0, 0, 0, 0, 0, 0, 0, 0, 0])"
      ]
     },
     "execution_count": 17,
     "metadata": {},
     "output_type": "execute_result"
    }
   ],
   "source": [
    "parse_ldblk(folder, sst_dict, 22)"
   ]
  }
 ],
 "metadata": {
  "kernelspec": {
   "display_name": "Python 3",
   "language": "python",
   "name": "python3"
  },
  "language_info": {
   "codemirror_mode": {
    "name": "ipython",
    "version": 3
   },
   "file_extension": ".py",
   "mimetype": "text/x-python",
   "name": "python",
   "nbconvert_exporter": "python",
   "pygments_lexer": "ipython3",
   "version": "3.11.9"
  }
 },
 "nbformat": 4,
 "nbformat_minor": 2
}
